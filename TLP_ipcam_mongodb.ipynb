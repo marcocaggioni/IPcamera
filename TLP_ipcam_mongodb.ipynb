{
 "cells": [
  {
   "cell_type": "markdown",
   "metadata": {},
   "source": [
    "# Timelapse from IP camera"
   ]
  },
  {
   "cell_type": "code",
   "execution_count": 1,
   "metadata": {
    "collapsed": false
   },
   "outputs": [],
   "source": [
    "%matplotlib inline\n",
    "import numpy\n",
    "import matplotlib\n",
    "from matplotlib import pylab, mlab, pyplot\n",
    "np = numpy\n",
    "plt = pyplot\n",
    "\n",
    "from IPython.display import display\n",
    "from IPython.core.pylabtools import figsize, getfigs\n",
    "\n",
    "from pylab import *\n",
    "from numpy import *\n",
    "\n",
    "from PIL import Image"
   ]
  },
  {
   "cell_type": "markdown",
   "metadata": {},
   "source": [
    "Most of the dlink camera will return the current frame if you try to download the link http://camera_IP/image.jpg.\n",
    "So one easy way to make a time lapse is to download the image at the ling at regular interval.\n",
    "\n",
    "Example in the cell below:"
   ]
  },
  {
   "cell_type": "code",
   "execution_count": null,
   "metadata": {
    "collapsed": true
   },
   "outputs": [],
   "source": [
    "import time\n",
    "from IPython.html.widgets import FloatProgress\n",
    "from urllib import request\n",
    "\n",
    "interval=60 #seconds\n",
    "imnum=100\n",
    "\n",
    "f = FloatProgress(min=0, max=imnum-1)\n",
    "display(f)\n",
    "    \n",
    "for i in range(imnum):\n",
    "    \n",
    "    dest_filename='ipcam_'+str(1000+i)[1:]+'.jpg'\n",
    "    \n",
    "    f = open(dest_filename, 'wb')\n",
    "    f.write(request.urlopen(\"http://192.168.1.135/image.jpg\").read())\n",
    "    f.close()\n",
    "    \n",
    "    time.sleep(interval)\n",
    "    f.description=str(i)\n",
    "    f.value=i"
   ]
  },
  {
   "cell_type": "markdown",
   "metadata": {},
   "source": [
    "The script above will save a sequence of jpg images in the folder running the notebook.\n",
    "\n",
    "Another option is to upload the image as a document to a mongo db Gridfs collection.\n",
    "In the next cell is an example of connecting to a local mongodb installation."
   ]
  },
  {
   "cell_type": "code",
   "execution_count": 3,
   "metadata": {
    "collapsed": false
   },
   "outputs": [],
   "source": [
    "import pymongo\n",
    "import gridfs\n",
    "import mimetypes\n",
    "import datetime\n",
    "import time\n",
    "\n",
    "\n",
    "# connect to the database & get a gridfs handle\n",
    "\n",
    "conn=pymongo.MongoClient(127.0.0.1)\n",
    "grid_fs = gridfs.GridFS(conn.test)\n",
    "collection=conn.test.fs.files\n",
    "\n",
    "def upload_image_to_db(orig_filename,dest_filename,grid_fs):\n",
    "    ''' Upload the orig_filename image (assuming jpg) to the mongodb provided grid_fs\n",
    "    and assign the name dest_filename. It also adds metadata: a dictionary containing\n",
    "    the fields experiment_name,abstime and mmperpix. The function '''\n",
    "\n",
    "    expname='timelapse_30_12_15'\n",
    "    abstime=time.mktime(datetime.date.today().timetuple()) #usually I use unix time in h\n",
    "\n",
    "    mime_type = 'image/jpeg'\n",
    "    metadata = {'experiment_name': expname, 'abstime': abstime, 'mmperpix': 1};\n",
    "    fileid = grid_fs.put(open(orig_filename,'rb'), contentType=mime_type, filename=dest_filename, info=info)\n",
    "    return fileid"
   ]
  },
  {
   "cell_type": "markdown",
   "metadata": {},
   "source": [
    "And with the upload_image_to_db the script could be"
   ]
  },
  {
   "cell_type": "code",
   "execution_count": 18,
   "metadata": {
    "collapsed": false,
    "scrolled": true
   },
   "outputs": [],
   "source": [
    "import time\n",
    "from IPython.html.widgets import FloatProgress\n",
    "from urllib import request\n",
    "\n",
    "interval=60 #seconds\n",
    "imnum=100\n",
    "\n",
    "f = FloatProgress(min=0, max=imnum-1)\n",
    "display(f)\n",
    "    \n",
    "for i in range(imnum):\n",
    "    \n",
    "    f = open('timelapse_im', 'wb')\n",
    "    f.write(request.urlopen(\"http://192.168.1.135/image.jpg\").read())\n",
    "    f.close()\n",
    "\n",
    "    dest_filename='ipcam_'+str(1000+i)[1:]+'.jpg'\n",
    "\n",
    "    upload_image_to_db('timelapse_im',dest_filename)\n",
    "    time.sleep(interval)\n",
    "    f.description=str(i)\n",
    "    f.value=i"
   ]
  },
  {
   "cell_type": "markdown",
   "metadata": {},
   "source": [
    "I have some good way to then explore the database I'll post a different notebook"
   ]
  },
  {
   "cell_type": "code",
   "execution_count": null,
   "metadata": {
    "collapsed": true
   },
   "outputs": [],
   "source": []
  }
 ],
 "metadata": {
  "kernelspec": {
   "display_name": "Python 3",
   "language": "python",
   "name": "python3"
  },
  "language_info": {
   "codemirror_mode": {
    "name": "ipython",
    "version": 3
   },
   "file_extension": ".py",
   "mimetype": "text/x-python",
   "name": "python",
   "nbconvert_exporter": "python",
   "pygments_lexer": "ipython3",
   "version": "3.5.1"
  }
 },
 "nbformat": 4,
 "nbformat_minor": 0
}
